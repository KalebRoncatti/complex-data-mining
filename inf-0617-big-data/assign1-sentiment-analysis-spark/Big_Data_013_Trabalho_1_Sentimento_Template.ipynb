{
  "cells": [
    {
      "cell_type": "markdown",
      "metadata": {
        "colab_type": "text",
        "id": "view-in-github"
      },
      "source": [
        "<a href=\"https://colab.research.google.com/github/kroncatti/complex-data-mining/blob/master/inf-0617-big-data/assign1-sentiment-analysis-spark/Big_Data_013_Trabalho_1_Sentimento_Template.ipynb\" target=\"_parent\"><img src=\"https://colab.research.google.com/assets/colab-badge.svg\" alt=\"Open In Colab\"/></a>"
      ]
    },
    {
      "cell_type": "markdown",
      "metadata": {
        "id": "dJquc_EOk0rY"
      },
      "source": [
        "**Instruções iniciais**\n",
        "\n",
        "*   Abra os links dos dados: \n",
        "    * https://tinyurl.com/bd-friends\n",
        "*   Clique em \"Adicionar atalho ao Drive\"\n"
      ]
    },
    {
      "cell_type": "markdown",
      "metadata": {
        "id": "parQVI_aEvHi"
      },
      "source": [
        "# Solução"
      ]
    },
    {
      "cell_type": "code",
      "execution_count": null,
      "metadata": {
        "id": "JvqjY2c7GkTz"
      },
      "outputs": [],
      "source": [
        "from google.colab import drive\n",
        "drive.mount('/content/drive')"
      ]
    },
    {
      "cell_type": "code",
      "execution_count": null,
      "metadata": {
        "id": "kQxqkJ4kE1ha"
      },
      "outputs": [],
      "source": [
        "!pip install nltk twython"
      ]
    },
    {
      "cell_type": "code",
      "execution_count": null,
      "metadata": {
        "id": "7clpACSPE4hs"
      },
      "outputs": [],
      "source": [
        "!python -m nltk.downloader vader_lexicon"
      ]
    },
    {
      "cell_type": "code",
      "execution_count": null,
      "metadata": {
        "id": "yGC-3wxv7Rbp"
      },
      "outputs": [],
      "source": [
        "!wget -q https://downloads.apache.org/spark/spark-3.2.2/spark-3.2.2-bin-hadoop3.2.tgz\n",
        "!tar xf spark-3.2.2-bin-hadoop3.2.tgz\n",
        "!pip install findspark pyspark "
      ]
    },
    {
      "cell_type": "code",
      "execution_count": null,
      "metadata": {
        "id": "2wA12VdZ7nil"
      },
      "outputs": [],
      "source": [
        "%env PYTHONHASHSEED=1234\n",
        "%env JAVA_HOME=/usr/lib/jvm/default-java\n",
        "%env SPARK_HOME=/content/spark-3.2.2-bin-hadoop3.2"
      ]
    },
    {
      "cell_type": "code",
      "execution_count": null,
      "metadata": {
        "id": "4WyUbr9G7pOW"
      },
      "outputs": [],
      "source": [
        "import findspark\n",
        "findspark.init(\"/content/spark-3.2.2-bin-hadoop3.2\")"
      ]
    },
    {
      "cell_type": "code",
      "execution_count": null,
      "metadata": {
        "id": "XOi6nUq-7spA"
      },
      "outputs": [],
      "source": [
        "from pyspark.sql import SparkSession\n",
        "from pyspark.sql import Row\n",
        "\n",
        "from datetime import datetime\n",
        "\n",
        "appName = 'Big Data'\n",
        "master = 'local[*]'\n",
        "\n",
        "spark = SparkSession.builder     \\\n",
        "    .master(master) \\\n",
        "    .appName(appName) \\\n",
        "    .getOrCreate()\n",
        "\n",
        "spark.sparkContext.setLogLevel(\"WARN\")"
      ]
    },
    {
      "cell_type": "code",
      "execution_count": null,
      "metadata": {
        "id": "j8FV0Qhx7s5a"
      },
      "outputs": [],
      "source": [
        "input_data = spark.sparkContext.textFile('file:///content/drive/My Drive/friends')"
      ]
    },
    {
      "cell_type": "code",
      "execution_count": null,
      "metadata": {
        "id": "BdDT9KZs75Ii"
      },
      "outputs": [],
      "source": [
        "from nltk.sentiment import SentimentIntensityAnalyzer\n",
        "\n",
        "sentiment = SentimentIntensityAnalyzer()\n",
        "characters = {'monica', 'chandler', 'ross', 'rachel', 'joey', 'phoebe'}\n"
      ]
    },
    {
      "cell_type": "code",
      "execution_count": null,
      "metadata": {
        "id": "KRdb5Xsp8CZj"
      },
      "outputs": [],
      "source": [
        "import re\n",
        "\n",
        "# Modifique o método para computar o sentimento de cada fala\n",
        "\n",
        "def line_sentiment(line) :\n",
        "    yield ('personagem', (0.001, 1))"
      ]
    },
    {
      "cell_type": "code",
      "execution_count": null,
      "metadata": {
        "id": "t28-0AL78Um8"
      },
      "outputs": [],
      "source": [
        "s = input_data.flatMap(line_sentiment)"
      ]
    },
    {
      "cell_type": "code",
      "execution_count": null,
      "metadata": {
        "id": "Kjs8C50G8gUt"
      },
      "outputs": [],
      "source": [
        "s.take(10)"
      ]
    },
    {
      "cell_type": "code",
      "execution_count": null,
      "metadata": {
        "id": "bwdv0ruWd21o"
      },
      "outputs": [],
      "source": [
        "# Implemente e aplique um método reduce para acumulação dos sentimentos dos personagens"
      ]
    },
    {
      "cell_type": "code",
      "execution_count": null,
      "metadata": {
        "id": "SHpV8nOzd_Rv"
      },
      "outputs": [],
      "source": [
        "# Implemente e aplique um método para calculo do sentimento médio"
      ]
    }
  ],
  "metadata": {
    "colab": {
      "collapsed_sections": [],
      "include_colab_link": true,
      "provenance": []
    },
    "kernelspec": {
      "display_name": "Python 3.7.7 ('base')",
      "language": "python",
      "name": "python3"
    },
    "language_info": {
      "name": "python",
      "version": "3.7.7"
    },
    "vscode": {
      "interpreter": {
        "hash": "bffa78d1b7559c64ab888610ccd57317b93a460d1e9e875ec30014adf19d377b"
      }
    }
  },
  "nbformat": 4,
  "nbformat_minor": 0
}
