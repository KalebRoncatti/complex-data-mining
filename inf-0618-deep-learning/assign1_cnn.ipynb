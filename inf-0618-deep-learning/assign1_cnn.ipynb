{
 "cells": [
  {
   "cell_type": "code",
   "execution_count": 43,
   "metadata": {},
   "outputs": [],
   "source": [
    "import tensorflow as tf\n",
    "import numpy as np\n",
    "from typing import Tuple\n",
    "\n",
    "seed = 21390213"
   ]
  },
  {
   "cell_type": "code",
   "execution_count": 44,
   "metadata": {},
   "outputs": [],
   "source": [
    "# Loading train and test set\n",
    "(x_train , y_train), (x_test , y_test) = tf.keras.datasets.cifar10.load_data()"
   ]
  },
  {
   "cell_type": "code",
   "execution_count": 45,
   "metadata": {},
   "outputs": [],
   "source": [
    "# Function to shuffle\n",
    "def shuffle_tensor(x: np.ndarray , y: np.ndarray) -> Tuple[np.ndarray, np.ndarray]:\n",
    "    indices = tf.range(start=0, limit=tf.shape(x)[0], dtype=tf.int32)\n",
    "    shuffled_indices = tf.random.shuffle(indices, seed=seed)\n",
    "    return tf.gather(x, shuffled_indices), tf.gather(y, shuffled_indices)\n",
    "\n",
    "# Function to split dataset\n",
    "def split_dataset(x: np.ndarray, y: np.ndarray, percentage: float) -> Tuple[np.ndarray, np.ndarray, np.ndarray, np.ndarray]:\n",
    "    if len(x) != len(y):\n",
    "        raise ValueError(\"array x and y must have the same length\")\n",
    "    \n",
    "    # Shuffling dataset\n",
    "    x, y = shuffle_tensor(x=x, y=y)\n",
    "\n",
    "    # Finding the splits after shuffling\n",
    "    total_elements = len(y)\n",
    "    data = round(percentage * total_elements)\n",
    "    return x[0:data], y[0:data], x[data:], y[data:]\n"
   ]
  },
  {
   "cell_type": "code",
   "execution_count": 46,
   "metadata": {},
   "outputs": [
    {
     "name": "stdout",
     "output_type": "stream",
     "text": [
      "We splitted the training dataset using the following percentage: 0.8\n",
      "Training dataset has the following shape: x ==> (40000, 32, 32, 3), y ==> (40000, 1)\n",
      "Validation dataset has the following shape: x ==> (10000, 32, 32, 3), y ==> (10000, 1)\n"
     ]
    }
   ],
   "source": [
    "x_train, y_train, x_val, y_val = split_dataset(x=x_train, y=y_train, percentage = 0.8)\n",
    "print(f\"We splitted the training dataset using the following percentage: {len(x_train)/(len(x_train) + len(x_val))}\")\n",
    "print(f\"Training dataset has the following shape: x ==> {x_train.shape}, y ==> {y_train.shape}\")\n",
    "print(f\"Validation dataset has the following shape: x ==> {x_val.shape}, y ==> {y_val.shape}\")"
   ]
  },
  {
   "cell_type": "code",
   "execution_count": 20,
   "metadata": {},
   "outputs": [
    {
     "data": {
      "text/plain": [
       "numpy.ndarray"
      ]
     },
     "execution_count": 20,
     "metadata": {},
     "output_type": "execute_result"
    }
   ],
   "source": []
  }
 ],
 "metadata": {
  "kernelspec": {
   "display_name": "Python 3.7.7 ('base')",
   "language": "python",
   "name": "python3"
  },
  "language_info": {
   "codemirror_mode": {
    "name": "ipython",
    "version": 3
   },
   "file_extension": ".py",
   "mimetype": "text/x-python",
   "name": "python",
   "nbconvert_exporter": "python",
   "pygments_lexer": "ipython3",
   "version": "3.7.7"
  },
  "orig_nbformat": 4,
  "vscode": {
   "interpreter": {
    "hash": "bffa78d1b7559c64ab888610ccd57317b93a460d1e9e875ec30014adf19d377b"
   }
  }
 },
 "nbformat": 4,
 "nbformat_minor": 2
}
