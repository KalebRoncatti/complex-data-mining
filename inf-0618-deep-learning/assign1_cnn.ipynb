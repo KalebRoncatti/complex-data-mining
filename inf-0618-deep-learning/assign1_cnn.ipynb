{
 "cells": [
  {
   "cell_type": "markdown",
   "metadata": {},
   "source": [
    "## Assignment 1 - Exploring CNNs on CIFAR-10 dataset\n",
    "### Team members:\n",
    "#### - Kaleb Roncatti de Souza\n",
    "#### - Nelson Gomes Brasil Junior"
   ]
  },
  {
   "cell_type": "code",
   "execution_count": 1,
   "metadata": {},
   "outputs": [
    {
     "name": "stdout",
     "output_type": "stream",
     "text": [
      "Requirement already satisfied: visualkeras in c:\\users\\kaleb\\anaconda3\\lib\\site-packages (0.0.2)\n",
      "Requirement already satisfied: aggdraw>=1.3.11 in c:\\users\\kaleb\\anaconda3\\lib\\site-packages (from visualkeras) (1.3.15)\n",
      "Requirement already satisfied: numpy>=1.18.1 in c:\\users\\kaleb\\anaconda3\\lib\\site-packages (from visualkeras) (1.21.5)\n",
      "Requirement already satisfied: pillow>=6.2.0 in c:\\users\\kaleb\\anaconda3\\lib\\site-packages (from visualkeras) (7.1.2)\n"
     ]
    }
   ],
   "source": [
    "!pip3 install visualkeras"
   ]
  },
  {
   "cell_type": "code",
   "execution_count": 2,
   "metadata": {},
   "outputs": [],
   "source": [
    "import tensorflow as tf\n",
    "import numpy as np\n",
    "from typing import Tuple\n",
    "import matplotlib.pyplot as plt\n",
    "from IPython import display\n",
    "%matplotlib inline\n",
    "from tensorflow.keras import layers\n",
    "from sklearn.utils.class_weight import compute_class_weight\n",
    "import visualkeras\n",
    "import os\n",
    "import random as rn\n",
    "from keras import callbacks\n",
    "\n",
    "\n",
    "rs = 54\n",
    "# Setting up random state to specific seed so we can have reproductibility\n",
    "os.environ['PYTHONHASHSEED']=str(rs)\n",
    "np.random.seed(rs)\n",
    "tf.random.set_seed(rs)\n",
    "rn.seed(rs)"
   ]
  },
  {
   "cell_type": "code",
   "execution_count": 3,
   "metadata": {},
   "outputs": [],
   "source": [
    "# Loading train and test set\n",
    "(x_train , y_train), (x_test , y_test) = tf.keras.datasets.cifar10.load_data()"
   ]
  },
  {
   "cell_type": "code",
   "execution_count": 4,
   "metadata": {},
   "outputs": [],
   "source": [
    "# Function to shuffle\n",
    "def shuffle_tensor(x: np.ndarray , y: np.ndarray) -> Tuple[np.ndarray, np.ndarray]:\n",
    "    indices = tf.range(start=0, limit=tf.shape(x)[0], dtype=tf.int32)\n",
    "    shuffled_indices = tf.random.shuffle(indices, seed=rs)\n",
    "    return tf.gather(x, shuffled_indices), tf.gather(y, shuffled_indices)\n",
    "\n",
    "# Function to split dataset\n",
    "def split_dataset(x: np.ndarray, y: np.ndarray, percentage: float) -> Tuple[np.ndarray, np.ndarray, np.ndarray, np.ndarray]:\n",
    "    if len(x) != len(y):\n",
    "        raise ValueError(\"array x and y must have the same length\")\n",
    "    \n",
    "    # Shuffling dataset\n",
    "    x, y = shuffle_tensor(x=x, y=y)\n",
    "\n",
    "    # Finding the splits after shuffling\n",
    "    total_elements = len(y)\n",
    "    data = int(percentage * total_elements)\n",
    "    return x[0:data], y[0:data], x[data:], y[data:]\n"
   ]
  },
  {
   "cell_type": "code",
   "execution_count": 5,
   "metadata": {},
   "outputs": [
    {
     "name": "stdout",
     "output_type": "stream",
     "text": [
      "We splitted the training dataset using the following percentage: 0.8\n",
      "Training dataset has the following shape: x ==> (40000, 32, 32, 3), y ==> (40000, 1)\n",
      "Validation dataset has the following shape: x ==> (10000, 32, 32, 3), y ==> (10000, 1)\n"
     ]
    }
   ],
   "source": [
    "#################################################################\n",
    "## Atividade 1. Splitting training and validation\n",
    "x_train, y_train, x_val, y_val = split_dataset(x=x_train, y=y_train, percentage = 0.8)\n",
    "print(f\"We splitted the training dataset using the following percentage: {len(x_train)/(len(x_train) + len(x_val))}\")\n",
    "print(f\"Training dataset has the following shape: x ==> {x_train.shape}, y ==> {y_train.shape}\")\n",
    "print(f\"Validation dataset has the following shape: x ==> {x_val.shape}, y ==> {y_val.shape}\")"
   ]
  },
  {
   "cell_type": "code",
   "execution_count": 6,
   "metadata": {},
   "outputs": [
    {
     "name": "stdout",
     "output_type": "stream",
     "text": [
      "(40000, 32, 32, 3) (40000, 10)\n"
     ]
    }
   ],
   "source": [
    "# Normalize data between [0, 1]\n",
    "x_train = tf.cast(x_train, tf.float32) / 255.0\n",
    "x_val = tf.cast(x_val, tf.float32) / 255.0\n",
    "x_test = tf.cast(x_test, tf.float32) / 255.0\n",
    "\n",
    "\n",
    "# One hot encoding on labels\n",
    "num_classes = len(np.unique(y_train))\n",
    "y_train_oh = tf.keras.utils.to_categorical(y_train, num_classes)\n",
    "y_val_oh = tf.keras.utils.to_categorical(y_val, num_classes)\n",
    "y_test_oh = tf.keras.utils.to_categorical(y_test, num_classes)\n",
    "print(x_train.shape, y_train_oh.shape)"
   ]
  },
  {
   "cell_type": "code",
   "execution_count": 7,
   "metadata": {},
   "outputs": [
    {
     "name": "stdout",
     "output_type": "stream",
     "text": [
      "Train --->  {0: 3968, 1: 4035, 2: 3988, 3: 3958, 4: 4005, 5: 4021, 6: 4038, 7: 3995, 8: 4015, 9: 3977}\n",
      "Validation --->  {0: 1032, 1: 965, 2: 1012, 3: 1042, 4: 995, 5: 979, 6: 962, 7: 1005, 8: 985, 9: 1023}\n"
     ]
    }
   ],
   "source": [
    "# Checking if we have a balanced dataset\n",
    "# Para o conjunto de treino\n",
    "unique, counts = np.unique(y_train, return_counts=True)\n",
    "print(\"Train ---> \", dict(zip(unique, counts)))\n",
    "unique, counts = np.unique(y_val, return_counts=True)\n",
    "print(\"Validation ---> \", dict(zip(unique, counts)))"
   ]
  },
  {
   "cell_type": "markdown",
   "metadata": {},
   "source": [
    "We can consider that the dataset is more or less balanced. We could also adjust the weights based on their proportion, but for simplicity, let's keep going considering the dataset is completely balanced."
   ]
  },
  {
   "cell_type": "code",
   "execution_count": 8,
   "metadata": {},
   "outputs": [
    {
     "name": "stdout",
     "output_type": "stream",
     "text": [
      "(32, 32, 3)\n"
     ]
    }
   ],
   "source": [
    "print(x_train[0].shape)\n"
   ]
  },
  {
   "cell_type": "code",
   "execution_count": 25,
   "metadata": {},
   "outputs": [
    {
     "name": "stdout",
     "output_type": "stream",
     "text": [
      "Model: \"sequential_5\"\n",
      "_________________________________________________________________\n",
      " Layer (type)                Output Shape              Param #   \n",
      "=================================================================\n",
      " conv2d_4 (Conv2D)           (None, 30, 30, 32)        896       \n",
      "                                                                 \n",
      " max_pooling2d_4 (MaxPooling  (None, 15, 15, 32)       0         \n",
      " 2D)                                                             \n",
      "                                                                 \n",
      " flatten_4 (Flatten)         (None, 7200)              0         \n",
      "                                                                 \n",
      " dense_4 (Dense)             (None, 10)                72010     \n",
      "                                                                 \n",
      "=================================================================\n",
      "Total params: 72,906\n",
      "Trainable params: 72,906\n",
      "Non-trainable params: 0\n",
      "_________________________________________________________________\n"
     ]
    },
    {
     "data": {
      "image/png": "[encoded data removed]",
      "text/plain": [
       "<PIL.Image.Image image mode=RGBA size=534x160 at 0x1C944EA1788>"
      ]
     },
     "execution_count": 25,
     "metadata": {},
     "output_type": "execute_result"
    }
   ],
   "source": [
    "#################################################################\n",
    "## Atividade 2. Creating a very simple convolutional neural net\n",
    "\n",
    "def create_baseline_model(input_shape=x_train[0].shape, activation: str = \"relu\") -> tf.keras.Sequential():\n",
    "    model = tf.keras.Sequential()\n",
    "\n",
    "    # Convolutional layer with 32 filters, 3x3 each\n",
    "    model.add(\n",
    "        layers.Conv2D(\n",
    "            filters=32, \n",
    "            kernel_size=(3, 3), \n",
    "            padding='valid', \n",
    "            activation='relu', \n",
    "            input_shape=x_train[0].shape))\n",
    "    #Max pooling of size 3x3\n",
    "    model.add(layers.MaxPooling2D(pool_size=(2, 2)))\n",
    "    # Flattening\n",
    "    model.add(layers.Flatten())\n",
    "    # Output layer\n",
    "    model.add(layers.Dense(10))\n",
    "\n",
    "    return model\n",
    "\n",
    "model = create_baseline_model()\n",
    "model.summary()\n",
    "# Taking a look at the neural net\n",
    "visualkeras.layered_view(model)\n"
   ]
  },
  {
   "cell_type": "code",
   "execution_count": 26,
   "metadata": {},
   "outputs": [],
   "source": [
    "# Compiling the model\n",
    "model.compile(optimizer=tf.keras.optimizers.Adam(0.01),\n",
    "              loss=tf.keras.losses.CategoricalCrossentropy(from_logits=True),\n",
    "              metrics=['accuracy'])\n"
   ]
  },
  {
   "cell_type": "code",
   "execution_count": 27,
   "metadata": {},
   "outputs": [
    {
     "name": "stdout",
     "output_type": "stream",
     "text": [
      "Epoch 1/50\n",
      "799/800 [============================>.] - ETA: 0s - loss: 2.0167 - accuracy: 0.2808\n",
      "Epoch 1: val_loss improved from inf to 1.95416, saving model to weights_baseline.h5\n",
      "800/800 [==============================] - 18s 22ms/step - loss: 2.0168 - accuracy: 0.2808 - val_loss: 1.9542 - val_accuracy: 0.3024\n",
      "Epoch 2/50\n",
      "800/800 [==============================] - ETA: 0s - loss: 1.9354 - accuracy: 0.3104\n",
      "Epoch 2: val_loss improved from 1.95416 to 1.93570, saving model to weights_baseline.h5\n",
      "800/800 [==============================] - 16s 20ms/step - loss: 1.9354 - accuracy: 0.3104 - val_loss: 1.9357 - val_accuracy: 0.2937\n",
      "Epoch 3/50\n",
      "798/800 [============================>.] - ETA: 0s - loss: 1.9072 - accuracy: 0.3173\n",
      "Epoch 3: val_loss improved from 1.93570 to 1.88527, saving model to weights_baseline.h5\n",
      "800/800 [==============================] - 13s 17ms/step - loss: 1.9072 - accuracy: 0.3174 - val_loss: 1.8853 - val_accuracy: 0.3135\n",
      "Epoch 4/50\n",
      "796/800 [============================>.] - ETA: 0s - loss: 1.8958 - accuracy: 0.3171\n",
      "Epoch 4: val_loss improved from 1.88527 to 1.88208, saving model to weights_baseline.h5\n",
      "800/800 [==============================] - 11s 14ms/step - loss: 1.8961 - accuracy: 0.3171 - val_loss: 1.8821 - val_accuracy: 0.3204\n",
      "Epoch 5/50\n",
      "799/800 [============================>.] - ETA: 0s - loss: 1.8838 - accuracy: 0.3156\n",
      "Epoch 5: val_loss did not improve from 1.88208\n",
      "800/800 [==============================] - 12s 15ms/step - loss: 1.8841 - accuracy: 0.3155 - val_loss: 1.9016 - val_accuracy: 0.3064\n",
      "Epoch 6/50\n",
      "146/800 [====>.........................] - ETA: 7s - loss: 1.8602 - accuracy: 0.3325"
     ]
    }
   ],
   "source": [
    "# Training the baseline model and saving it\n",
    "device = '/gpu:0' # or '/cpu:0' if you don't have GPU\n",
    "with tf.device(device):\n",
    "    model.fit(\n",
    "        x_train, y_train_oh, \n",
    "        epochs=50, \n",
    "        batch_size=50,\n",
    "        validation_data=(x_val, y_val_oh),\n",
    "        verbose=1,\n",
    "        callbacks=[\n",
    "            callbacks.TerminateOnNaN(),\n",
    "            callbacks.ModelCheckpoint(\n",
    "                'weights_baseline.h5',\n",
    "                save_best_only=True,\n",
    "                verbose=1),\n",
    "        ]\n",
    "        )"
   ]
  },
  {
   "cell_type": "code",
   "execution_count": null,
   "metadata": {},
   "outputs": [
    {
     "data": {
      "image/png": "[encoded data removed]",
      "text/plain": [
       "<Figure size 432x288 with 1 Axes>"
      ]
     },
     "metadata": {
      "needs_background": "light"
     },
     "output_type": "display_data"
    }
   ],
   "source": [
    "# Observing the model\n",
    "plt.plot(model.history.history['accuracy'])\n",
    "plt.plot(model.history.history['val_accuracy'])\n",
    "plt.title('model accuracy')\n",
    "plt.ylabel('accuracy')\n",
    "plt.xlabel('epoch')\n",
    "plt.legend(['train', 'val'], loc='upper left')\n",
    "plt.show()"
   ]
  },
  {
   "cell_type": "code",
   "execution_count": null,
   "metadata": {},
   "outputs": [],
   "source": []
  }
 ],
 "metadata": {
  "kernelspec": {
   "display_name": "Python 3.7.7 ('base')",
   "language": "python",
   "name": "python3"
  },
  "language_info": {
   "codemirror_mode": {
    "name": "ipython",
    "version": 3
   },
   "file_extension": ".py",
   "mimetype": "text/x-python",
   "name": "python",
   "nbconvert_exporter": "python",
   "pygments_lexer": "ipython3",
   "version": "3.7.7"
  },
  "orig_nbformat": 4,
  "vscode": {
   "interpreter": {
    "hash": "bffa78d1b7559c64ab888610ccd57317b93a460d1e9e875ec30014adf19d377b"
   }
  }
 },
 "nbformat": 4,
 "nbformat_minor": 2
}
