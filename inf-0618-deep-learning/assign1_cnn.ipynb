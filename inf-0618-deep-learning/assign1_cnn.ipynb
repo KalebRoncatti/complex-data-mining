{
 "cells": [
  {
   "cell_type": "markdown",
   "metadata": {},
   "source": [
    "## Assignment 1 - Exploring CNNs on CIFAR-10 dataset\n",
    "### Team members:\n",
    "#### - Kaleb Roncatti de Souza\n",
    "#### - Nelson Gomes Brasil Junior"
   ]
  },
  {
   "cell_type": "code",
   "execution_count": 1,
   "metadata": {},
   "outputs": [
    {
     "name": "stdout",
     "output_type": "stream",
     "text": [
      "Requirement already satisfied: visualkeras in c:\\users\\kaleb\\anaconda3\\lib\\site-packages (0.0.2)\n",
      "Requirement already satisfied: aggdraw>=1.3.11 in c:\\users\\kaleb\\anaconda3\\lib\\site-packages (from visualkeras) (1.3.15)\n",
      "Requirement already satisfied: numpy>=1.18.1 in c:\\users\\kaleb\\anaconda3\\lib\\site-packages (from visualkeras) (1.21.5)\n",
      "Requirement already satisfied: pillow>=6.2.0 in c:\\users\\kaleb\\anaconda3\\lib\\site-packages (from visualkeras) (7.1.2)\n"
     ]
    }
   ],
   "source": [
    "!pip3 install visualkeras"
   ]
  },
  {
   "cell_type": "code",
   "execution_count": 2,
   "metadata": {},
   "outputs": [],
   "source": [
    "import tensorflow as tf\n",
    "import numpy as np\n",
    "from typing import Tuple\n",
    "import matplotlib.pyplot as plt\n",
    "from IPython import display\n",
    "%matplotlib inline\n",
    "from tensorflow.keras import layers\n",
    "from sklearn.utils.class_weight import compute_class_weight\n",
    "import visualkeras\n",
    "import os\n",
    "import random as rn\n",
    "from keras import callbacks\n",
    "\n",
    "\n",
    "rs = 54\n",
    "# Setting up random state to specific seed so we can have reproductibility\n",
    "os.environ['PYTHONHASHSEED']=str(rs)\n",
    "np.random.seed(rs)\n",
    "tf.random.set_seed(rs)\n",
    "rn.seed(rs)"
   ]
  },
  {
   "cell_type": "code",
   "execution_count": 3,
   "metadata": {},
   "outputs": [],
   "source": [
    "# Loading train and test set\n",
    "(x_train , y_train), (x_test , y_test) = tf.keras.datasets.cifar10.load_data()"
   ]
  },
  {
   "cell_type": "code",
   "execution_count": 4,
   "metadata": {},
   "outputs": [],
   "source": [
    "# Function to shuffle\n",
    "def shuffle_tensor(x: np.ndarray , y: np.ndarray) -> Tuple[np.ndarray, np.ndarray]:\n",
    "    indices = tf.range(start=0, limit=tf.shape(x)[0], dtype=tf.int32)\n",
    "    shuffled_indices = tf.random.shuffle(indices, seed=rs)\n",
    "    return tf.gather(x, shuffled_indices), tf.gather(y, shuffled_indices)\n",
    "\n",
    "# Function to split dataset\n",
    "def split_dataset(x: np.ndarray, y: np.ndarray, percentage: float) -> Tuple[np.ndarray, np.ndarray, np.ndarray, np.ndarray]:\n",
    "    if len(x) != len(y):\n",
    "        raise ValueError(\"array x and y must have the same length\")\n",
    "    \n",
    "    # Shuffling dataset\n",
    "    x, y = shuffle_tensor(x=x, y=y)\n",
    "\n",
    "    # Finding the splits after shuffling\n",
    "    total_elements = len(y)\n",
    "    data = int(percentage * total_elements)\n",
    "    return x[0:data], y[0:data], x[data:], y[data:]\n"
   ]
  },
  {
   "cell_type": "code",
   "execution_count": 5,
   "metadata": {},
   "outputs": [
    {
     "name": "stdout",
     "output_type": "stream",
     "text": [
      "We splitted the training dataset using the following percentage: 0.8\n",
      "Training dataset has the following shape: x ==> (40000, 32, 32, 3), y ==> (40000, 1)\n",
      "Validation dataset has the following shape: x ==> (10000, 32, 32, 3), y ==> (10000, 1)\n"
     ]
    }
   ],
   "source": [
    "## Atividade 1. Splitting training and validation\n",
    "x_train, y_train, x_val, y_val = split_dataset(x=x_train, y=y_train, percentage = 0.8)\n",
    "print(f\"We splitted the training dataset using the following percentage: {len(x_train)/(len(x_train) + len(x_val))}\")\n",
    "print(f\"Training dataset has the following shape: x ==> {x_train.shape}, y ==> {y_train.shape}\")\n",
    "print(f\"Validation dataset has the following shape: x ==> {x_val.shape}, y ==> {y_val.shape}\")"
   ]
  },
  {
   "cell_type": "code",
   "execution_count": 6,
   "metadata": {},
   "outputs": [
    {
     "name": "stdout",
     "output_type": "stream",
     "text": [
      "(40000, 32, 32, 3) (40000, 10)\n"
     ]
    }
   ],
   "source": [
    "# Normalize data between [0, 1]\n",
    "x_train = tf.cast(x_train, tf.float32) / 255.0\n",
    "x_val = tf.cast(x_val, tf.float32) / 255.0\n",
    "x_test = tf.cast(x_test, tf.float32) / 255.0\n",
    "\n",
    "\n",
    "# One hot encoding on labels\n",
    "num_classes = len(np.unique(y_train))\n",
    "y_train_oh = tf.keras.utils.to_categorical(y_train, num_classes)\n",
    "y_val_oh = tf.keras.utils.to_categorical(y_val, num_classes)\n",
    "y_test_oh = tf.keras.utils.to_categorical(y_test, num_classes)\n",
    "print(x_train.shape, y_train_oh.shape)"
   ]
  },
  {
   "cell_type": "code",
   "execution_count": 7,
   "metadata": {},
   "outputs": [
    {
     "name": "stdout",
     "output_type": "stream",
     "text": [
      "Train --->  {0: 3968, 1: 4035, 2: 3988, 3: 3958, 4: 4005, 5: 4021, 6: 4038, 7: 3995, 8: 4015, 9: 3977}\n",
      "Validation --->  {0: 1032, 1: 965, 2: 1012, 3: 1042, 4: 995, 5: 979, 6: 962, 7: 1005, 8: 985, 9: 1023}\n"
     ]
    }
   ],
   "source": [
    "# Checking if we have a balanced dataset\n",
    "# Para o conjunto de treino\n",
    "unique, counts = np.unique(y_train, return_counts=True)\n",
    "print(\"Train ---> \", dict(zip(unique, counts)))\n",
    "unique, counts = np.unique(y_val, return_counts=True)\n",
    "print(\"Validation ---> \", dict(zip(unique, counts)))"
   ]
  },
  {
   "cell_type": "markdown",
   "metadata": {},
   "source": [
    "We can consider that the dataset is more or less balanced. We could also adjust the weights based on their proportion, but for simplicity, let's keep going considering the dataset is completely balanced."
   ]
  },
  {
   "cell_type": "code",
   "execution_count": 8,
   "metadata": {},
   "outputs": [
    {
     "name": "stdout",
     "output_type": "stream",
     "text": [
      "(32, 32, 3)\n"
     ]
    }
   ],
   "source": [
    "print(x_train[0].shape)"
   ]
  },
  {
   "cell_type": "code",
   "execution_count": 9,
   "metadata": {},
   "outputs": [
    {
     "name": "stdout",
     "output_type": "stream",
     "text": [
      "Model: \"sequential\"\n",
      "_________________________________________________________________\n",
      " Layer (type)                Output Shape              Param #   \n",
      "=================================================================\n",
      " conv2d (Conv2D)             (None, 30, 30, 10)        280       \n",
      "                                                                 \n",
      " max_pooling2d (MaxPooling2D  (None, 10, 10, 10)       0         \n",
      " )                                                               \n",
      "                                                                 \n",
      " flatten (Flatten)           (None, 1000)              0         \n",
      "                                                                 \n",
      " dense (Dense)               (None, 10)                10010     \n",
      "                                                                 \n",
      "=================================================================\n",
      "Total params: 10,290\n",
      "Trainable params: 10,290\n",
      "Non-trainable params: 0\n",
      "_________________________________________________________________\n"
     ]
    },
    {
     "data": {
      "image/png": "[encoded data removed]",
      "text/plain": [
       "<PIL.Image.Image image mode=RGBA size=234x160 at 0x1C93BEBF248>"
      ]
     },
     "execution_count": 9,
     "metadata": {},
     "output_type": "execute_result"
    }
   ],
   "source": [
    "## Atividade 2. Creating a very simple convolutional neural net\n",
    "\n",
    "model = tf.keras.Sequential()\n",
    "\n",
    "# Convolutional layer with 10 filters, 3x3 each\n",
    "model.add(layers.Conv2D(10, 3, padding='valid', activation='relu', input_shape=x_train[0].shape))\n",
    "#Max pooling of size 3x3\n",
    "model.add(layers.MaxPooling2D(pool_size=(3, 3)))\n",
    "# Flattening\n",
    "model.add(layers.Flatten())\n",
    "# Output layer\n",
    "model.add(layers.Dense(10))\n",
    "\n",
    "model.summary()\n",
    "\n",
    "# Taking a look at the neural net\n",
    "visualkeras.layered_view(model)\n"
   ]
  },
  {
   "cell_type": "code",
   "execution_count": 10,
   "metadata": {},
   "outputs": [],
   "source": [
    "# Compiling the model\n",
    "model.compile(optimizer=tf.keras.optimizers.Adam(0.01),\n",
    "              loss=tf.keras.losses.CategoricalCrossentropy(from_logits=True),\n",
    "              metrics=['accuracy'])\n"
   ]
  },
  {
   "cell_type": "code",
   "execution_count": 11,
   "metadata": {},
   "outputs": [
    {
     "name": "stdout",
     "output_type": "stream",
     "text": [
      "Epoch 1/50\n",
      "795/800 [============================>.] - ETA: 0s - loss: 1.6409 - accuracy: 0.4153\n",
      "Epoch 1: val_loss improved from inf to 1.53266, saving model to weights_baseline.h5\n",
      "800/800 [==============================] - 8s 9ms/step - loss: 1.6415 - accuracy: 0.4152 - val_loss: 1.5327 - val_accuracy: 0.4691\n",
      "Epoch 2/50\n",
      "797/800 [============================>.] - ETA: 0s - loss: 1.5120 - accuracy: 0.4706\n",
      "Epoch 2: val_loss improved from 1.53266 to 1.49671, saving model to weights_baseline.h5\n",
      "800/800 [==============================] - 5s 7ms/step - loss: 1.5115 - accuracy: 0.4705 - val_loss: 1.4967 - val_accuracy: 0.4844\n",
      "Epoch 3/50\n",
      "795/800 [============================>.] - ETA: 0s - loss: 1.4734 - accuracy: 0.4849\n",
      "Epoch 3: val_loss improved from 1.49671 to 1.45878, saving model to weights_baseline.h5\n",
      "800/800 [==============================] - 6s 7ms/step - loss: 1.4728 - accuracy: 0.4850 - val_loss: 1.4588 - val_accuracy: 0.5036\n",
      "Epoch 4/50\n",
      "799/800 [============================>.] - ETA: 0s - loss: 1.4454 - accuracy: 0.4958\n",
      "Epoch 4: val_loss did not improve from 1.45878\n",
      "800/800 [==============================] - 6s 7ms/step - loss: 1.4456 - accuracy: 0.4957 - val_loss: 1.5508 - val_accuracy: 0.4637\n",
      "Epoch 5/50\n",
      "797/800 [============================>.] - ETA: 0s - loss: 1.4447 - accuracy: 0.4951\n",
      "Epoch 5: val_loss did not improve from 1.45878\n",
      "800/800 [==============================] - 6s 7ms/step - loss: 1.4452 - accuracy: 0.4950 - val_loss: 1.5045 - val_accuracy: 0.4795\n",
      "Epoch 6/50\n",
      "796/800 [============================>.] - ETA: 0s - loss: 1.4306 - accuracy: 0.5019\n",
      "Epoch 6: val_loss did not improve from 1.45878\n",
      "800/800 [==============================] - 5s 7ms/step - loss: 1.4303 - accuracy: 0.5020 - val_loss: 1.5260 - val_accuracy: 0.4741\n",
      "Epoch 7/50\n",
      "791/800 [============================>.] - ETA: 0s - loss: 1.4397 - accuracy: 0.5006\n",
      "Epoch 7: val_loss improved from 1.45878 to 1.44964, saving model to weights_baseline.h5\n",
      "800/800 [==============================] - 6s 7ms/step - loss: 1.4392 - accuracy: 0.5007 - val_loss: 1.4496 - val_accuracy: 0.5063\n",
      "Epoch 8/50\n",
      "799/800 [============================>.] - ETA: 0s - loss: 1.4215 - accuracy: 0.5083\n",
      "Epoch 8: val_loss did not improve from 1.44964\n",
      "800/800 [==============================] - 7s 8ms/step - loss: 1.4216 - accuracy: 0.5082 - val_loss: 1.5418 - val_accuracy: 0.4812\n",
      "Epoch 9/50\n",
      "800/800 [==============================] - ETA: 0s - loss: 1.4085 - accuracy: 0.5116\n",
      "Epoch 9: val_loss improved from 1.44964 to 1.41936, saving model to weights_baseline.h5\n",
      "800/800 [==============================] - 6s 8ms/step - loss: 1.4085 - accuracy: 0.5116 - val_loss: 1.4194 - val_accuracy: 0.5057\n",
      "Epoch 10/50\n",
      "790/800 [============================>.] - ETA: 0s - loss: 1.4005 - accuracy: 0.5127\n",
      "Epoch 10: val_loss improved from 1.41936 to 1.41506, saving model to weights_baseline.h5\n",
      "800/800 [==============================] - 8s 10ms/step - loss: 1.4019 - accuracy: 0.5122 - val_loss: 1.4151 - val_accuracy: 0.5206\n",
      "Epoch 11/50\n",
      "798/800 [============================>.] - ETA: 0s - loss: 1.4018 - accuracy: 0.5126\n",
      "Epoch 11: val_loss did not improve from 1.41506\n",
      "800/800 [==============================] - 8s 10ms/step - loss: 1.4015 - accuracy: 0.5127 - val_loss: 1.4173 - val_accuracy: 0.5097\n",
      "Epoch 12/50\n",
      "800/800 [==============================] - ETA: 0s - loss: 1.3946 - accuracy: 0.5171\n",
      "Epoch 12: val_loss did not improve from 1.41506\n",
      "800/800 [==============================] - 9s 11ms/step - loss: 1.3946 - accuracy: 0.5171 - val_loss: 1.4743 - val_accuracy: 0.5025\n",
      "Epoch 13/50\n",
      "793/800 [============================>.] - ETA: 0s - loss: 1.4012 - accuracy: 0.5157\n",
      "Epoch 13: val_loss did not improve from 1.41506\n",
      "800/800 [==============================] - 7s 8ms/step - loss: 1.3997 - accuracy: 0.5164 - val_loss: 1.4559 - val_accuracy: 0.5096\n",
      "Epoch 14/50\n",
      "797/800 [============================>.] - ETA: 0s - loss: 1.4063 - accuracy: 0.5163\n",
      "Epoch 14: val_loss improved from 1.41506 to 1.40079, saving model to weights_baseline.h5\n",
      "800/800 [==============================] - 6s 8ms/step - loss: 1.4061 - accuracy: 0.5165 - val_loss: 1.4008 - val_accuracy: 0.5177\n",
      "Epoch 15/50\n",
      "798/800 [============================>.] - ETA: 0s - loss: 1.3869 - accuracy: 0.5214\n",
      "Epoch 15: val_loss did not improve from 1.40079\n",
      "800/800 [==============================] - 6s 8ms/step - loss: 1.3872 - accuracy: 0.5212 - val_loss: 1.4748 - val_accuracy: 0.4930\n",
      "Epoch 16/50\n",
      "799/800 [============================>.] - ETA: 0s - loss: 1.3963 - accuracy: 0.5183\n",
      "Epoch 16: val_loss did not improve from 1.40079\n",
      "800/800 [==============================] - 9s 12ms/step - loss: 1.3967 - accuracy: 0.5183 - val_loss: 1.4441 - val_accuracy: 0.5220\n",
      "Epoch 17/50\n",
      "796/800 [============================>.] - ETA: 0s - loss: 1.3889 - accuracy: 0.5200\n",
      "Epoch 17: val_loss did not improve from 1.40079\n",
      "800/800 [==============================] - 7s 9ms/step - loss: 1.3886 - accuracy: 0.5201 - val_loss: 1.4775 - val_accuracy: 0.4843\n",
      "Epoch 18/50\n",
      "791/800 [============================>.] - ETA: 0s - loss: 1.3909 - accuracy: 0.5226\n",
      "Epoch 18: val_loss did not improve from 1.40079\n",
      "800/800 [==============================] - 7s 8ms/step - loss: 1.3907 - accuracy: 0.5228 - val_loss: 1.5304 - val_accuracy: 0.4853\n",
      "Epoch 19/50\n",
      "794/800 [============================>.] - ETA: 0s - loss: 1.3950 - accuracy: 0.5192\n",
      "Epoch 19: val_loss did not improve from 1.40079\n",
      "800/800 [==============================] - 7s 9ms/step - loss: 1.3955 - accuracy: 0.5190 - val_loss: 1.5614 - val_accuracy: 0.4741\n",
      "Epoch 20/50\n",
      "796/800 [============================>.] - ETA: 0s - loss: 1.3863 - accuracy: 0.5218\n",
      "Epoch 20: val_loss did not improve from 1.40079\n",
      "800/800 [==============================] - 9s 11ms/step - loss: 1.3859 - accuracy: 0.5218 - val_loss: 1.4227 - val_accuracy: 0.5098\n",
      "Epoch 21/50\n",
      "799/800 [============================>.] - ETA: 0s - loss: 1.3814 - accuracy: 0.5253\n",
      "Epoch 21: val_loss did not improve from 1.40079\n",
      "800/800 [==============================] - 7s 9ms/step - loss: 1.3812 - accuracy: 0.5254 - val_loss: 1.4510 - val_accuracy: 0.4993\n",
      "Epoch 22/50\n",
      "789/800 [============================>.] - ETA: 0s - loss: 1.3726 - accuracy: 0.5291\n",
      "Epoch 22: val_loss improved from 1.40079 to 1.37869, saving model to weights_baseline.h5\n",
      "800/800 [==============================] - 7s 9ms/step - loss: 1.3722 - accuracy: 0.5292 - val_loss: 1.3787 - val_accuracy: 0.5341\n",
      "Epoch 23/50\n",
      "793/800 [============================>.] - ETA: 0s - loss: 1.3671 - accuracy: 0.5291\n",
      "Epoch 23: val_loss did not improve from 1.37869\n",
      "800/800 [==============================] - 7s 9ms/step - loss: 1.3671 - accuracy: 0.5290 - val_loss: 1.4448 - val_accuracy: 0.5086\n",
      "Epoch 24/50\n",
      "791/800 [============================>.] - ETA: 0s - loss: 1.3737 - accuracy: 0.5274\n",
      "Epoch 24: val_loss did not improve from 1.37869\n",
      "800/800 [==============================] - 7s 9ms/step - loss: 1.3736 - accuracy: 0.5274 - val_loss: 1.4040 - val_accuracy: 0.5333\n",
      "Epoch 25/50\n",
      "796/800 [============================>.] - ETA: 0s - loss: 1.3810 - accuracy: 0.5245\n",
      "Epoch 25: val_loss improved from 1.37869 to 1.36995, saving model to weights_baseline.h5\n",
      "800/800 [==============================] - 7s 9ms/step - loss: 1.3811 - accuracy: 0.5248 - val_loss: 1.3699 - val_accuracy: 0.5369\n",
      "Epoch 26/50\n",
      "797/800 [============================>.] - ETA: 0s - loss: 1.3791 - accuracy: 0.5264\n",
      "Epoch 26: val_loss did not improve from 1.36995\n",
      "800/800 [==============================] - 7s 9ms/step - loss: 1.3797 - accuracy: 0.5264 - val_loss: 1.4106 - val_accuracy: 0.5229\n",
      "Epoch 27/50\n",
      "798/800 [============================>.] - ETA: 0s - loss: 1.3739 - accuracy: 0.5254\n",
      "Epoch 27: val_loss did not improve from 1.36995\n",
      "800/800 [==============================] - 7s 8ms/step - loss: 1.3737 - accuracy: 0.5254 - val_loss: 1.4328 - val_accuracy: 0.5223\n",
      "Epoch 28/50\n",
      "793/800 [============================>.] - ETA: 0s - loss: 1.3695 - accuracy: 0.5293\n",
      "Epoch 28: val_loss did not improve from 1.36995\n",
      "800/800 [==============================] - 10s 12ms/step - loss: 1.3692 - accuracy: 0.5293 - val_loss: 1.4172 - val_accuracy: 0.5167\n",
      "Epoch 29/50\n",
      "800/800 [==============================] - ETA: 0s - loss: 1.3750 - accuracy: 0.5256\n",
      "Epoch 29: val_loss did not improve from 1.36995\n",
      "800/800 [==============================] - 22s 28ms/step - loss: 1.3750 - accuracy: 0.5256 - val_loss: 1.4265 - val_accuracy: 0.5086\n",
      "Epoch 30/50\n",
      "800/800 [==============================] - ETA: 0s - loss: 1.3708 - accuracy: 0.5266\n",
      "Epoch 30: val_loss did not improve from 1.36995\n",
      "800/800 [==============================] - 14s 18ms/step - loss: 1.3708 - accuracy: 0.5266 - val_loss: 1.4790 - val_accuracy: 0.5039\n",
      "Epoch 31/50\n",
      "793/800 [============================>.] - ETA: 0s - loss: 1.3769 - accuracy: 0.5226\n",
      "Epoch 31: val_loss did not improve from 1.36995\n",
      "800/800 [==============================] - 9s 11ms/step - loss: 1.3766 - accuracy: 0.5228 - val_loss: 1.4387 - val_accuracy: 0.5051\n",
      "Epoch 32/50\n",
      "797/800 [============================>.] - ETA: 0s - loss: 1.3728 - accuracy: 0.5307\n",
      "Epoch 32: val_loss did not improve from 1.36995\n",
      "800/800 [==============================] - 10s 12ms/step - loss: 1.3731 - accuracy: 0.5305 - val_loss: 1.4438 - val_accuracy: 0.5111\n",
      "Epoch 33/50\n",
      "791/800 [============================>.] - ETA: 0s - loss: 1.3825 - accuracy: 0.5267\n",
      "Epoch 33: val_loss did not improve from 1.36995\n",
      "800/800 [==============================] - 9s 11ms/step - loss: 1.3819 - accuracy: 0.5265 - val_loss: 1.3836 - val_accuracy: 0.5363\n",
      "Epoch 34/50\n",
      "797/800 [============================>.] - ETA: 0s - loss: 1.3680 - accuracy: 0.5289\n",
      "Epoch 34: val_loss did not improve from 1.36995\n",
      "800/800 [==============================] - 10s 12ms/step - loss: 1.3680 - accuracy: 0.5290 - val_loss: 1.4505 - val_accuracy: 0.5087\n",
      "Epoch 35/50\n",
      "794/800 [============================>.] - ETA: 0s - loss: 1.3808 - accuracy: 0.5266\n",
      "Epoch 35: val_loss did not improve from 1.36995\n",
      "800/800 [==============================] - 8s 10ms/step - loss: 1.3810 - accuracy: 0.5264 - val_loss: 1.4497 - val_accuracy: 0.5086\n",
      "Epoch 36/50\n",
      "790/800 [============================>.] - ETA: 0s - loss: 1.3733 - accuracy: 0.5286\n",
      "Epoch 36: val_loss did not improve from 1.36995\n",
      "800/800 [==============================] - 7s 9ms/step - loss: 1.3738 - accuracy: 0.5286 - val_loss: 1.4568 - val_accuracy: 0.5015\n",
      "Epoch 37/50\n",
      "800/800 [==============================] - ETA: 0s - loss: 1.3849 - accuracy: 0.5263\n",
      "Epoch 37: val_loss did not improve from 1.36995\n",
      "800/800 [==============================] - 9s 11ms/step - loss: 1.3849 - accuracy: 0.5263 - val_loss: 1.4981 - val_accuracy: 0.4985\n",
      "Epoch 38/50\n",
      "796/800 [============================>.] - ETA: 0s - loss: 1.3697 - accuracy: 0.5294\n",
      "Epoch 38: val_loss did not improve from 1.36995\n",
      "800/800 [==============================] - 9s 11ms/step - loss: 1.3695 - accuracy: 0.5295 - val_loss: 1.4170 - val_accuracy: 0.5189\n",
      "Epoch 39/50\n",
      "795/800 [============================>.] - ETA: 0s - loss: 1.3729 - accuracy: 0.5276\n",
      "Epoch 39: val_loss did not improve from 1.36995\n",
      "800/800 [==============================] - 7s 8ms/step - loss: 1.3727 - accuracy: 0.5278 - val_loss: 1.3825 - val_accuracy: 0.5270\n",
      "Epoch 40/50\n",
      "791/800 [============================>.] - ETA: 0s - loss: 1.3781 - accuracy: 0.5256\n",
      "Epoch 40: val_loss did not improve from 1.36995\n",
      "800/800 [==============================] - 7s 9ms/step - loss: 1.3787 - accuracy: 0.5252 - val_loss: 1.4253 - val_accuracy: 0.5180\n",
      "Epoch 41/50\n",
      "795/800 [============================>.] - ETA: 0s - loss: 1.3813 - accuracy: 0.5230\n",
      "Epoch 41: val_loss did not improve from 1.36995\n",
      "800/800 [==============================] - 7s 9ms/step - loss: 1.3815 - accuracy: 0.5226 - val_loss: 1.4419 - val_accuracy: 0.5079\n",
      "Epoch 42/50\n",
      "790/800 [============================>.] - ETA: 0s - loss: 1.3757 - accuracy: 0.5278\n",
      "Epoch 42: val_loss did not improve from 1.36995\n",
      "800/800 [==============================] - 7s 9ms/step - loss: 1.3763 - accuracy: 0.5277 - val_loss: 1.4011 - val_accuracy: 0.5226\n",
      "Epoch 43/50\n",
      "800/800 [==============================] - ETA: 0s - loss: 1.3726 - accuracy: 0.5277\n",
      "Epoch 43: val_loss did not improve from 1.36995\n",
      "800/800 [==============================] - 7s 9ms/step - loss: 1.3726 - accuracy: 0.5277 - val_loss: 1.5235 - val_accuracy: 0.4876\n",
      "Epoch 44/50\n",
      "800/800 [==============================] - ETA: 0s - loss: 1.3817 - accuracy: 0.5246\n",
      "Epoch 44: val_loss did not improve from 1.36995\n",
      "800/800 [==============================] - 7s 9ms/step - loss: 1.3817 - accuracy: 0.5246 - val_loss: 1.5010 - val_accuracy: 0.4968\n",
      "Epoch 45/50\n",
      "791/800 [============================>.] - ETA: 0s - loss: 1.3712 - accuracy: 0.5262\n",
      "Epoch 45: val_loss did not improve from 1.36995\n",
      "800/800 [==============================] - 6s 8ms/step - loss: 1.3710 - accuracy: 0.5260 - val_loss: 1.4058 - val_accuracy: 0.5216\n",
      "Epoch 46/50\n",
      "795/800 [============================>.] - ETA: 0s - loss: 1.3647 - accuracy: 0.5287\n",
      "Epoch 46: val_loss did not improve from 1.36995\n",
      "800/800 [==============================] - 6s 7ms/step - loss: 1.3649 - accuracy: 0.5285 - val_loss: 1.4656 - val_accuracy: 0.5125\n",
      "Epoch 47/50\n",
      "795/800 [============================>.] - ETA: 0s - loss: 1.3737 - accuracy: 0.5255\n",
      "Epoch 47: val_loss did not improve from 1.36995\n",
      "800/800 [==============================] - 7s 9ms/step - loss: 1.3737 - accuracy: 0.5256 - val_loss: 1.5453 - val_accuracy: 0.4729\n",
      "Epoch 48/50\n",
      "799/800 [============================>.] - ETA: 0s - loss: 1.4014 - accuracy: 0.5182\n",
      "Epoch 48: val_loss did not improve from 1.36995\n",
      "800/800 [==============================] - 7s 9ms/step - loss: 1.4018 - accuracy: 0.5180 - val_loss: 1.5661 - val_accuracy: 0.4696\n",
      "Epoch 49/50\n",
      "799/800 [============================>.] - ETA: 0s - loss: 1.3818 - accuracy: 0.5237\n",
      "Epoch 49: val_loss did not improve from 1.36995\n",
      "800/800 [==============================] - 7s 9ms/step - loss: 1.3818 - accuracy: 0.5238 - val_loss: 1.4782 - val_accuracy: 0.4935\n",
      "Epoch 50/50\n",
      "799/800 [============================>.] - ETA: 0s - loss: 1.3762 - accuracy: 0.5272\n",
      "Epoch 50: val_loss did not improve from 1.36995\n",
      "800/800 [==============================] - 7s 9ms/step - loss: 1.3764 - accuracy: 0.5271 - val_loss: 1.5137 - val_accuracy: 0.4892\n"
     ]
    }
   ],
   "source": [
    "# Training the baseline model and saving it\n",
    "device = '/gpu:0' # or '/cpu:0' if you don't have GPU\n",
    "with tf.device(device):\n",
    "    model.fit(\n",
    "        x_train, y_train_oh, \n",
    "        epochs=50, \n",
    "        batch_size=50,\n",
    "        validation_data=(x_val, y_val_oh),\n",
    "        verbose=1,\n",
    "        callbacks=[\n",
    "            callbacks.TerminateOnNaN(),\n",
    "            callbacks.ModelCheckpoint(\n",
    "                'weights_baseline.h5',\n",
    "                save_best_only=True,\n",
    "                verbose=1),\n",
    "        ]\n",
    "        )"
   ]
  }
 ],
 "metadata": {
  "kernelspec": {
   "display_name": "Python 3.7.7 ('base')",
   "language": "python",
   "name": "python3"
  },
  "language_info": {
   "codemirror_mode": {
    "name": "ipython",
    "version": 3
   },
   "file_extension": ".py",
   "mimetype": "text/x-python",
   "name": "python",
   "nbconvert_exporter": "python",
   "pygments_lexer": "ipython3",
   "version": "3.7.7"
  },
  "orig_nbformat": 4,
  "vscode": {
   "interpreter": {
    "hash": "bffa78d1b7559c64ab888610ccd57317b93a460d1e9e875ec30014adf19d377b"
   }
  }
 },
 "nbformat": 4,
 "nbformat_minor": 2
}
